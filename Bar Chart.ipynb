# 绘制柱状图
# 统计各情感类型的评论数量
sentiment_counts = df['情感倾向'].value_counts()
plt.figure(figsize=(8, 5))
bars = plt.bar(sentiment_counts.index, # x轴：情感类型
               sentiment_counts.values, # y轴：数量
               color=['#4CAF50', '#6495ED', '#FF4500']
               )

# 添加图表标题和标签
plt.title('微博评论情感倾向分布', fontsize=14, fontfamily='SimHei')
plt.xlabel('情感类型', fontsize=12, fontfamily='SimHei')
plt.ylabel('评论数量', fontsize=12, fontfamily='SimHei')
plt.xticks(fontsize=10, fontfamily='SimHei')
plt.grid(axis='y', linestyle='--', alpha=0.7) # 添加y轴网格线

# 在柱子上方显示具体数量
for bar in bars:
    height = bar.get_height()
    plt.text(bar.get_x() + bar.get_width()/2.,
             height,
             str(height), # 显示数量
             ha='center', va='bottom') # 文本居中、底部对齐
plt.tight_layout()
# plt.show()