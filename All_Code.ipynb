import pandas as pd
import re
import jieba
from snownlp import SnowNLP
import matplotlib.pyplot as plt
from wordcloud import WordCloud

# 读取数据
df = pd.read_excel('数据.xlsx', sheet_name='Sheet1')

# 数据清洗
# 过滤非字符串评论（处理空值、数字等无效数据）
df = df[df['评论文本内容'].apply(lambda x: isinstance(x, str))].reset_index(drop=True)

# 定义文本清洗函数：保留中文、标点和空格，删除其他字符
def clean_chinese(text):
    if not isinstance(text, str):
        return ''
    pattern = re.compile(r'[^\u4e00-\u9fa5\s，。！？]')
    return pattern.sub('', text).strip() # 去除匹配到的字符并去首尾空格

# 应用清洗函数到评论文本
df['cleaned_text'] = df['评论文本内容'].apply(clean_chinese)

# 删除短文本（长度<5）
df = df[df['cleaned_text'].apply(lambda x: len(x) >= 5)].reset_index(drop=True)

# 情感分析
def analyze_sentiment(text):
    s = SnowNLP(text)
    score = s.sentiments # 生成0-1的情感分数
    if score >= 0.6:
        return '积极'
    elif score <= 0.4:
        return '消极'
    else:
        return '中性'

# 应用情感分析，生成情感标签列
df['情感倾向'] = df['cleaned_text'].apply(analyze_sentiment)

# 绘制柱状图
# 统计各情感类型的评论数量
sentiment_counts = df['情感倾向'].value_counts()
plt.figure(figsize=(8, 5))
bars = plt.bar(sentiment_counts.index, # x轴：情感类型
               sentiment_counts.values, # y轴：数量
               color=['#4CAF50', '#6495ED', '#FF4500']
               )

# 添加图表标题和标签
plt.title('微博评论情感倾向分布', fontsize=14, fontfamily='SimHei')
plt.xlabel('情感类型', fontsize=12, fontfamily='SimHei')
plt.ylabel('评论数量', fontsize=12, fontfamily='SimHei')
plt.xticks(fontsize=10, fontfamily='SimHei')
plt.grid(axis='y', linestyle='--', alpha=0.7) # 添加y轴网格线

# 在柱子上方显示具体数量
for bar in bars:
    height = bar.get_height()
    plt.text(bar.get_x() + bar.get_width()/2.,
             height,
             str(height), # 显示数量
             ha='center', va='bottom') # 文本居中、底部对齐
plt.tight_layout()
# plt.show()

# 词云图分析
# 定义停用词列表：过滤无意义词汇
stopwords = ['啊啊啊', '卧槽', '哥哥', '宝宝', '老公', '真的', '牛逼', '去去就回', '海外', '体育场', '返场']

# 合并所有评论文本并分词
all_text = ' '.join(df['cleaned_text'])
words = [word for word in jieba.cut(all_text) if word not in stopwords and len(word) > 1]
cleaned_text = ' '.join(words) # 拼接分词结果

# 生成词云图
wordcloud = WordCloud(
    font_path=r'C:\Windows\Fonts\SimHei.ttf',
    width=800, height=400, # 图片尺寸
    background_color='white' # 背景色
).generate(cleaned_text)

# 显示词云图
plt.figure(figsize=(10, 6))
plt.imshow(wordcloud)
plt.axis('off') # 隐藏坐标轴
plt.title('高频词汇云图', fontsize=14, fontfamily='SimHei')
plt.show()  