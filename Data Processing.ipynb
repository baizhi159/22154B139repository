# 读取数据
df = pd.read_excel('数据.xlsx', sheet_name='Sheet1')

# 数据清洗
# 过滤非字符串评论（处理空值、数字等无效数据）
df = df[df['评论文本内容'].apply(lambda x: isinstance(x, str))].reset_index(drop=True)

# 定义文本清洗函数：保留中文、标点和空格，删除其他字符
def clean_chinese(text):
    if not isinstance(text, str):
        return ''
    pattern = re.compile(r'[^\u4e00-\u9fa5\s，。！？]')
    return pattern.sub('', text).strip() # 去除匹配到的字符并去首尾空格

# 应用清洗函数到评论文本
df['cleaned_text'] = df['评论文本内容'].apply(clean_chinese)

# 删除短文本（长度<5）
df = df[df['cleaned_text'].apply(lambda x: len(x) >= 5)].reset_index(drop=True)