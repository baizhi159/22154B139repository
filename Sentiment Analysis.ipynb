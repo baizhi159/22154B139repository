# 情感分析
def analyze_sentiment(text):
    s = SnowNLP(text)
    score = s.sentiments # 生成0-1的情感分数
    if score >= 0.6:
        return '积极'
    elif score <= 0.4:
        return '消极'
    else:
        return '中性'

# 应用情感分析，生成情感标签列
df['情感倾向'] = df['cleaned_text'].apply(analyze_sentiment)