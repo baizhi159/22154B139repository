# 词云图分析
# 定义停用词列表：过滤无意义词汇
stopwords = ['啊啊啊', '卧槽', '哥哥', '宝宝', '老公', '真的', '牛逼', '去去就回', '海外', '体育场', '返场']

# 合并所有评论文本并分词
all_text = ' '.join(df['cleaned_text'])
words = [word for word in jieba.cut(all_text) if word not in stopwords and len(word) > 1]
cleaned_text = ' '.join(words) # 拼接分词结果

# 生成词云图
wordcloud = WordCloud(
    font_path=r'C:\Windows\Fonts\SimHei.ttf',
    width=800, height=400, # 图片尺寸
    background_color='white' # 背景色
).generate(cleaned_text)

# 显示词云图
plt.figure(figsize=(10, 6))
plt.imshow(wordcloud)
plt.axis('off') # 隐藏坐标轴
plt.title('高频词汇云图', fontsize=14, fontfamily='SimHei')
plt.show()  